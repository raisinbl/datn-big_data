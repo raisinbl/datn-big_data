{
 "cells": [
  {
   "cell_type": "markdown",
   "metadata": {},
   "source": [
    "## Jpype\n",
    "\n",
    "Dùng cách này gọi `dbapi2` của `jpype` sẽ có phương thức `cursor()` -> pandas có thể tạo df từ đây"
   ]
  },
  {
   "cell_type": "code",
   "execution_count": null,
   "metadata": {},
   "outputs": [],
   "source": [
    "import jpype\n",
    "import jpype.imports\n",
    "import jpype.dbapi2\n",
    "classpaths = [\"/opt/phoenix/phoenix-client-embedded-hbase-2.5.jar\", \"/opt/phoenix/lib/*\"]\n",
    "for classpath in classpaths:\n",
    "  jpype.addClassPath(classpath)\n",
    "jpype.startJVM()"
   ]
  },
  {
   "cell_type": "code",
   "execution_count": 2,
   "metadata": {},
   "outputs": [],
   "source": [
    "conn = jpype.dbapi2.connect(dsn=\"jdbc:phoenix:localhost\", driver=\"org.apache.phoenix.jdbc.PhoenixDriver\")"
   ]
  },
  {
   "cell_type": "code",
   "execution_count": null,
   "metadata": {},
   "outputs": [],
   "source": [
    "import pandas as pd\n",
    "\n",
    "# Corrected SQL query\n",
    "query = \"\"\"\n",
    "SELECT chi_tiet.*\n",
    "FROM chi_tiet, chiso_version\n",
    "WHERE chi_tiet.version = (\n",
    "\tSELECT MAX(version) FROM chiso_version\n",
    ")\n",
    "\"\"\"\n",
    "\n",
    "# Execute the query and create a DataFrame\n",
    "df = pd.read_sql(query, conn)"
   ]
  },
  {
   "cell_type": "code",
   "execution_count": null,
   "metadata": {},
   "outputs": [],
   "source": [
    "import streamlit\n",
    "\n",
    "streamlit.write(df)"
   ]
  },
  {
   "cell_type": "markdown",
   "metadata": {},
   "source": [
    "## Py4j\n",
    "- set up right Java systemwide version\n",
    "- It worth to notice that py4j connection after calling `DriverManager.getConnection` does not have `cursor()` method which a DB api normally has (which result to `pandas` can not create df from)"
   ]
  },
  {
   "cell_type": "code",
   "execution_count": null,
   "metadata": {},
   "outputs": [],
   "source": [
    "from py4j.java_gateway import JavaGateway\n",
    "\n",
    "# Open JVM interface with the JDBC Jar\n",
    "jdbc_jar_path = '/opt/phoenix/*'\n",
    "log4j_jar_path = '/opt/phoenix/lib/*'\n",
    "gateway = JavaGateway.launch_gateway(classpath=f\"{jdbc_jar_path}:{log4j_jar_path}\")\n",
    "\n",
    "# Load the JDBC Jar\n",
    "jdbc_class = \"org.apache.phoenix.jdbc.PhoenixDriver\"\n",
    "gateway.jvm.Class.forName(jdbc_class)\n",
    "\n",
    "# Initiate connection\n",
    "jdbc_uri = \"jdbc:phoenix:localhost\"\n",
    "con =  gateway.jvm.java.sql.DriverManager.getConnection(jdbc_uri)\n",
    "\n",
    "# Execute query\n",
    "query_chiso_version = 'select max(version) from chiso_version'\n",
    "stmt = con.createStatement()\n",
    "rs = stmt.executeQuery(query_chiso_version)\n",
    "\n",
    "while rs.next():\n",
    "    print(rs.getString(1))\n",
    "    # print(rs.getString(2))\n",
    "    # print(rs.getString(3))\n",
    "    # print(rs.getString(4)\n",
    "  "
   ]
  }
 ],
 "metadata": {
  "kernelspec": {
   "display_name": "Python 3",
   "language": "python",
   "name": "python3"
  },
  "language_info": {
   "codemirror_mode": {
    "name": "ipython",
    "version": 3
   },
   "file_extension": ".py",
   "mimetype": "text/x-python",
   "name": "python",
   "nbconvert_exporter": "python",
   "pygments_lexer": "ipython3",
   "version": "3.12.7"
  }
 },
 "nbformat": 4,
 "nbformat_minor": 2
}
